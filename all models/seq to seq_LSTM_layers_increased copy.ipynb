version https://git-lfs.github.com/spec/v1
oid sha256:a2b30339a8e46b21a86d684f3a2b38805f8ad6187a6efbe8d77dfd5e68b246be
size 7405904
